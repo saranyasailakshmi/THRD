{
 "cells": [
  {
   "cell_type": "code",
   "execution_count": 1,
   "id": "46c1a796-26b4-4af4-be1f-d656e5ab414b",
   "metadata": {},
   "outputs": [],
   "source": [
    "import pandas as pd"
   ]
  },
  {
   "cell_type": "code",
   "execution_count": 3,
   "id": "507900a5-61e2-45f5-bf51-94e7366bd982",
   "metadata": {},
   "outputs": [
    {
     "name": "stdout",
     "output_type": "stream",
     "text": [
      "Products Data : \n",
      "    sku    name  current_price  cost_price  stock\n",
      "0  A123  Item A         649.99       500.0    150\n",
      "1  B456  Item B         699.00       550.0     15\n",
      "2  C789  Item C         999.00       500.0    250\n",
      "\n",
      "Sales Data :\n",
      "    sku  quantity_sold\n",
      "0  A123             10\n",
      "1  B456             35\n",
      "2  C789              0\n"
     ]
    }
   ],
   "source": [
    "products_df = pd.read_csv('products.csv')\n",
    "sales_df = pd.read_csv('sales.csv')\n",
    "print(\"Products Data : \")\n",
    "print(products_df)\n",
    "print(\"\\nSales Data :\")\n",
    "print(sales_df)"
   ]
  },
  {
   "cell_type": "code",
   "execution_count": 5,
   "id": "ca30af3a-f9da-46b8-8706-d17d675bcec6",
   "metadata": {},
   "outputs": [
    {
     "data": {
      "text/html": [
       "<div>\n",
       "<style scoped>\n",
       "    .dataframe tbody tr th:only-of-type {\n",
       "        vertical-align: middle;\n",
       "    }\n",
       "\n",
       "    .dataframe tbody tr th {\n",
       "        vertical-align: top;\n",
       "    }\n",
       "\n",
       "    .dataframe thead th {\n",
       "        text-align: right;\n",
       "    }\n",
       "</style>\n",
       "<table border=\"1\" class=\"dataframe\">\n",
       "  <thead>\n",
       "    <tr style=\"text-align: right;\">\n",
       "      <th></th>\n",
       "      <th>sku</th>\n",
       "      <th>name</th>\n",
       "      <th>current_price</th>\n",
       "      <th>cost_price</th>\n",
       "      <th>stock</th>\n",
       "      <th>quantity_sold</th>\n",
       "    </tr>\n",
       "  </thead>\n",
       "  <tbody>\n",
       "    <tr>\n",
       "      <th>0</th>\n",
       "      <td>A123</td>\n",
       "      <td>Item A</td>\n",
       "      <td>649.99</td>\n",
       "      <td>500.0</td>\n",
       "      <td>150</td>\n",
       "      <td>10</td>\n",
       "    </tr>\n",
       "    <tr>\n",
       "      <th>1</th>\n",
       "      <td>B456</td>\n",
       "      <td>Item B</td>\n",
       "      <td>699.00</td>\n",
       "      <td>550.0</td>\n",
       "      <td>15</td>\n",
       "      <td>35</td>\n",
       "    </tr>\n",
       "    <tr>\n",
       "      <th>2</th>\n",
       "      <td>C789</td>\n",
       "      <td>Item C</td>\n",
       "      <td>999.00</td>\n",
       "      <td>500.0</td>\n",
       "      <td>250</td>\n",
       "      <td>0</td>\n",
       "    </tr>\n",
       "  </tbody>\n",
       "</table>\n",
       "</div>"
      ],
      "text/plain": [
       "    sku    name  current_price  cost_price  stock  quantity_sold\n",
       "0  A123  Item A         649.99       500.0    150             10\n",
       "1  B456  Item B         699.00       550.0     15             35\n",
       "2  C789  Item C         999.00       500.0    250              0"
      ]
     },
     "execution_count": 5,
     "metadata": {},
     "output_type": "execute_result"
    }
   ],
   "source": [
    "merged_df = pd.merge(products_df,sales_df,on='sku')\n",
    "merged_df"
   ]
  },
  {
   "cell_type": "code",
   "execution_count": 7,
   "id": "ab5b9c47-9684-401d-a129-f4543cafc8e4",
   "metadata": {},
   "outputs": [],
   "source": [
    "def apply_pricing_rules(row):\n",
    "    old_price = row['current_price']\n",
    "    cost_price = row['cost_price']\n",
    "    stock = row['stock']\n",
    "    quantity_sold = row['quantity_sold']\n",
    "    new_price = old_price\n",
    "\n",
    "    if stock < 20 and quantity_sold > 30:\n",
    "        new_price = old_price * 1.15\n",
    "\n",
    "    elif stock > 200 and quantity_sold == 0:\n",
    "        new_price = old_price * 0.70\n",
    "\n",
    "    elif stock > 100 and quantity_sold < 20:\n",
    "        new_price = old_price * 0.90\n",
    "\n",
    "    min_price = cost_price * 1.2\n",
    "    if new_price < min_price:\n",
    "        new_price = min_price\n",
    "\n",
    "    return round(old_price, 2), round(new_price, 2)\n"
   ]
  },
  {
   "cell_type": "code",
   "execution_count": 9,
   "id": "3eb5c2ff-14be-4339-8db0-85b23eb46cf3",
   "metadata": {},
   "outputs": [
    {
     "data": {
      "text/html": [
       "<div>\n",
       "<style scoped>\n",
       "    .dataframe tbody tr th:only-of-type {\n",
       "        vertical-align: middle;\n",
       "    }\n",
       "\n",
       "    .dataframe tbody tr th {\n",
       "        vertical-align: top;\n",
       "    }\n",
       "\n",
       "    .dataframe thead th {\n",
       "        text-align: right;\n",
       "    }\n",
       "</style>\n",
       "<table border=\"1\" class=\"dataframe\">\n",
       "  <thead>\n",
       "    <tr style=\"text-align: right;\">\n",
       "      <th></th>\n",
       "      <th>sku</th>\n",
       "      <th>old_price</th>\n",
       "      <th>new_price</th>\n",
       "    </tr>\n",
       "  </thead>\n",
       "  <tbody>\n",
       "    <tr>\n",
       "      <th>0</th>\n",
       "      <td>A123</td>\n",
       "      <td>649.99 INR</td>\n",
       "      <td>600.00 INR</td>\n",
       "    </tr>\n",
       "    <tr>\n",
       "      <th>1</th>\n",
       "      <td>B456</td>\n",
       "      <td>699.00 INR</td>\n",
       "      <td>803.85 INR</td>\n",
       "    </tr>\n",
       "    <tr>\n",
       "      <th>2</th>\n",
       "      <td>C789</td>\n",
       "      <td>999.00 INR</td>\n",
       "      <td>699.30 INR</td>\n",
       "    </tr>\n",
       "  </tbody>\n",
       "</table>\n",
       "</div>"
      ],
      "text/plain": [
       "    sku   old_price   new_price\n",
       "0  A123  649.99 INR  600.00 INR\n",
       "1  B456  699.00 INR  803.85 INR\n",
       "2  C789  999.00 INR  699.30 INR"
      ]
     },
     "execution_count": 9,
     "metadata": {},
     "output_type": "execute_result"
    }
   ],
   "source": [
    "merged_df[['old_price', 'new_price']] = merged_df.apply(apply_pricing_rules, axis=1, result_type='expand')\n",
    "\n",
    "merged_df['old_price'] = merged_df['old_price'].apply(lambda x: f\"{x:.2f} INR\")\n",
    "merged_df['new_price'] = merged_df['new_price'].apply(lambda x: f\"{x:.2f} INR\")\n",
    "\n",
    "output_df = merged_df[['sku', 'old_price', 'new_price']]\n",
    "output_df\n"
   ]
  },
  {
   "cell_type": "code",
   "execution_count": 11,
   "id": "25cb9a9a-6460-41f4-a375-d1d2888a1fd4",
   "metadata": {},
   "outputs": [
    {
     "name": "stdout",
     "output_type": "stream",
     "text": [
      "updated_prices.csv has been created successfully!\n"
     ]
    }
   ],
   "source": [
    "output_df.to_csv('updated_prices.csv', index=False)\n",
    "print(\"updated_prices.csv has been created successfully!\")\n"
   ]
  },
  {
   "cell_type": "code",
   "execution_count": null,
   "id": "1896ea31-f090-48b6-beb9-1a91adaf5287",
   "metadata": {},
   "outputs": [],
   "source": []
  }
 ],
 "metadata": {
  "kernelspec": {
   "display_name": "Python 3 (ipykernel)",
   "language": "python",
   "name": "python3"
  },
  "language_info": {
   "codemirror_mode": {
    "name": "ipython",
    "version": 3
   },
   "file_extension": ".py",
   "mimetype": "text/x-python",
   "name": "python",
   "nbconvert_exporter": "python",
   "pygments_lexer": "ipython3",
   "version": "3.12.7"
  }
 },
 "nbformat": 4,
 "nbformat_minor": 5
}
